{
 "cells": [
  {
   "cell_type": "markdown",
   "metadata": {},
   "source": [
    "# DATA MAPPING: COMMON FAILURES"
   ]
  },
  {
   "cell_type": "markdown",
   "metadata": {},
   "source": [
    "1. What's bad mapping code\n",
    "1. Case Study: The evolution of a data mapper with Giphy image data\n",
    " 1. Learning the source data\n",
    " 1. Use case 1: Filter out unused data\n",
    " 1. Use Case 2: Nested records\n",
    " 1. Use Case 3: Flatten data, add and transform fields\n",
    "1. Conclusion: What's wrong with DIY mapping?"
   ]
  },
  {
   "cell_type": "markdown",
   "metadata": {},
   "source": [
    "# 1. What's _bad_ mapping code\n",
    "\n",
    "It works, and you get the idea. But it has problems: \n",
    " * You need to **manipulate data in your head**\n",
    " * No clear pattern to apply when adding or changing it\n",
    " * Too too slow to understand\n",
    " * Not explicit \n",
    "\n",
    "When you have to squint and stare, you're doing it wrong."
   ]
  },
  {
   "cell_type": "markdown",
   "metadata": {},
   "source": [
    "### Example: Bad mapping code\n",
    "\n",
    "I wrote this mapping code. It's not maintainable."
   ]
  },
  {
   "cell_type": "code",
   "execution_count": 1,
   "metadata": {},
   "outputs": [],
   "source": [
    "def giphy_mapper(dct):\n",
    "    new_dict = {\n",
    "        \"bitly_gif_url\": dct.get(\"bitly_gif_url\"), \n",
    "        \"giphy_id\": dct.get(\"id\"), \n",
    "        \"import_datetime\": dct.get(\"import_datetime\"), \n",
    "        \"rating\": dct.get(\"rating\"), \n",
    "        \"slug\": dct.get(\"slug\"), \n",
    "        \"source\": dct.get(\"source\"), \n",
    "        \"title\": dct.get(\"title\"), \n",
    "        \"image_type\": dct.get(\"type\"),  \n",
    "        \"giphy_url\": dct.get(\"url\"), \n",
    "        \"username\": dct.get(\"username\"),\n",
    "    }\n",
    "    \n",
    "    images = 'downsized', 'original', 'preview'\n",
    "    new_dict[\"images\"] = {}\n",
    "    for image in images:\n",
    "        new_dict[\"images\"][image] = dct[\"images\"].get(image)\n",
    "    return new_dict\n",
    "\n",
    "def giphy_mapper_extras(mapped_data):\n",
    "    new_images = {}\n",
    "    for dct_label, image_dct in mapped_data['images'].iteritems():\n",
    "        new_images[dct_label] = filter_image_fields(image_dct)\n",
    "    flat_dict = {}\n",
    "    for image_name, image_data in new_images.iteritems():\n",
    "        for image_field, val in image_data.iteritems():\n",
    "            flat_dict[image_name+\"_\"+image_field] = val  # \n",
    "    mapped_data.update(flat_dict)\n",
    "    del mapped_data[\"images\"]\n",
    "    return mapped_data\n",
    "\n",
    "def transform_data(data):\n",
    "    data['original_size'] = \"%s MB\" % (int(data['original_size'])/1000 )\n",
    "    data['downsized_size'] = \"%s MB\" % (int(data['downsized_size'])/1000)\n",
    "    data['height_diff'] = int(data[\"original_height\"]) - int(data[\"preview_height\"])\n",
    "    return data"
   ]
  },
  {
   "cell_type": "markdown",
   "metadata": {},
   "source": [
    "##### What makes this so bad?\n",
    "\n",
    "Stare at the code again. Why is it hard to read? Because you are **manipulaing data in your head.** When you are squinting and staring to follow the data transformations you're doing it wrong.\n",
    "\n",
    "This _used_ to be simple, but it was modified quickly to meet additional requirements.\n",
    "\n",
    "Let's examine how simple code devolves."
   ]
  },
  {
   "cell_type": "markdown",
   "metadata": {},
   "source": [
    "# 2. Case Study: The evolution of a data mapper.\n",
    "\n",
    "\n",
    "The following scenario displays how a simple data mapping problem can become complex, and ultimately generate unmaintainable code. \n",
    "\n",
    "#### Scenario \n",
    "Our client wants to analyze giphy images (about cats).\n",
    "\n",
    "Parts\n",
    "Introduction\n",
    "Scenario\n",
    "\n",
    "\n",
    "1. Pre-work: Setting up data & utilities (ignore this)\n",
    "2. Structure of the API response."
   ]
  },
  {
   "cell_type": "markdown",
   "metadata": {},
   "source": [
    "#### Ignore this, scroll down\n",
    "\n",
    "_Setting up data & utilties (ignore this)_"
   ]
  },
  {
   "cell_type": "code",
   "execution_count": 2,
   "metadata": {},
   "outputs": [],
   "source": [
    "# Demo data\n",
    "import json\n",
    "giphy_json_response_sample = '{\"pagination\": {\"count\": 25, \"total_count\": 194085, \"offset\": 0}, \"meta\": {\"status\": 200, \"msg\": \"OK\", \"response_id\": \"5a8e4877344d53506749c515\"}, \"data\": [{\"username\": \"\", \"rating\": \"g\", \"embed_url\": \"https://giphy.com/embed/Ov5NiLVXT8JEc\", \"is_indexable\": 1, \"url\": \"https://giphy.com/gifs/cats-light-sabers-Ov5NiLVXT8JEc\", \"images\": {\"fixed_height_still\": {\"url\": \"https://media1.giphy.com/media/Ov5NiLVXT8JEc/200_s.gif?cid=e1bb72ff5a8e4877344d53506749c515\", \"width\": \"356\", \"height\": \"200\"}, \"fixed_width_small\": {\"url\": \"https://media1.giphy.com/media/Ov5NiLVXT8JEc/100w.gif?cid=e1bb72ff5a8e4877344d53506749c515\", \"webp\": \"https://media1.giphy.com/media/Ov5NiLVXT8JEc/100w.webp?cid=e1bb72ff5a8e4877344d53506749c515\", \"height\": \"56\", \"width\": \"100\", \"mp4\": \"https://media1.giphy.com/media/Ov5NiLVXT8JEc/100w.mp4?cid=e1bb72ff5a8e4877344d53506749c515\", \"webp_size\": \"39892\", \"mp4_size\": \"12567\", \"size\": \"88908\"}, \"fixed_width_small_still\": {\"url\": \"https://media1.giphy.com/media/Ov5NiLVXT8JEc/100w_s.gif?cid=e1bb72ff5a8e4877344d53506749c515\", \"width\": \"100\", \"height\": \"56\"}, \"preview_webp\": {\"url\": \"https://media1.giphy.com/media/Ov5NiLVXT8JEc/giphy-preview.webp?cid=e1bb72ff5a8e4877344d53506749c515\", \"width\": \"215\", \"size\": \"49358\", \"height\": \"121\"}, \"fixed_height\": {\"url\": \"https://media1.giphy.com/media/Ov5NiLVXT8JEc/200.gif?cid=e1bb72ff5a8e4877344d53506749c515\", \"webp\": \"https://media1.giphy.com/media/Ov5NiLVXT8JEc/200.webp?cid=e1bb72ff5a8e4877344d53506749c515\", \"height\": \"200\", \"width\": \"356\", \"mp4\": \"https://media1.giphy.com/media/Ov5NiLVXT8JEc/200.mp4?cid=e1bb72ff5a8e4877344d53506749c515\", \"webp_size\": \"265590\", \"mp4_size\": \"74643\", \"size\": \"863917\"}, \"fixed_height_small_still\": {\"url\": \"https://media1.giphy.com/media/Ov5NiLVXT8JEc/100_s.gif?cid=e1bb72ff5a8e4877344d53506749c515\", \"width\": \"178\", \"height\": \"100\"}, \"480w_still\": {\"url\": \"https://media2.giphy.com/media/Ov5NiLVXT8JEc/480w_s.jpg?cid=e1bb72ff5a8e4877344d53506749c515\", \"width\": \"480\", \"height\": \"270\"}, \"downsized_medium\": {\"url\": \"https://media1.giphy.com/media/Ov5NiLVXT8JEc/giphy.gif?cid=e1bb72ff5a8e4877344d53506749c515\", \"width\": \"500\", \"size\": \"1802952\", \"height\": \"281\"}, \"preview\": {\"width\": \"230\", \"mp4\": \"https://media1.giphy.com/media/Ov5NiLVXT8JEc/giphy-preview.mp4?cid=e1bb72ff5a8e4877344d53506749c515\", \"mp4_size\": \"37266\", \"height\": \"128\"}, \"preview_gif\": {\"url\": \"https://media1.giphy.com/media/Ov5NiLVXT8JEc/giphy-preview.gif?cid=e1bb72ff5a8e4877344d53506749c515\", \"width\": \"123\", \"size\": \"48262\", \"height\": \"69\"}, \"fixed_height_small\": {\"url\": \"https://media1.giphy.com/media/Ov5NiLVXT8JEc/100.gif?cid=e1bb72ff5a8e4877344d53506749c515\", \"webp\": \"https://media1.giphy.com/media/Ov5NiLVXT8JEc/100.webp?cid=e1bb72ff5a8e4877344d53506749c515\", \"height\": \"100\", \"width\": \"178\", \"mp4\": \"https://media1.giphy.com/media/Ov5NiLVXT8JEc/100.mp4?cid=e1bb72ff5a8e4877344d53506749c515\", \"webp_size\": \"89192\", \"mp4_size\": \"26323\", \"size\": \"240747\"}, \"fixed_width\": {\"url\": \"https://media1.giphy.com/media/Ov5NiLVXT8JEc/200w.gif?cid=e1bb72ff5a8e4877344d53506749c515\", \"webp\": \"https://media1.giphy.com/media/Ov5NiLVXT8JEc/200w.webp?cid=e1bb72ff5a8e4877344d53506749c515\", \"height\": \"112\", \"width\": \"200\", \"mp4\": \"https://media1.giphy.com/media/Ov5NiLVXT8JEc/200w.mp4?cid=e1bb72ff5a8e4877344d53506749c515\", \"webp_size\": \"100960\", \"mp4_size\": \"28771\", \"size\": \"279318\"}, \"fixed_width_downsampled\": {\"url\": \"https://media1.giphy.com/media/Ov5NiLVXT8JEc/200w_d.gif?cid=e1bb72ff5a8e4877344d53506749c515\", \"height\": \"112\", \"width\": \"200\", \"webp\": \"https://media1.giphy.com/media/Ov5NiLVXT8JEc/200w_d.webp?cid=e1bb72ff5a8e4877344d53506749c515\", \"webp_size\": \"28020\", \"size\": \"80804\"}, \"original_still\": {\"url\": \"https://media1.giphy.com/media/Ov5NiLVXT8JEc/giphy_s.gif?cid=e1bb72ff5a8e4877344d53506749c515\", \"width\": \"500\", \"height\": \"281\"}, \"fixed_height_downsampled\": {\"url\": \"https://media1.giphy.com/media/Ov5NiLVXT8JEc/200_d.gif?cid=e1bb72ff5a8e4877344d53506749c515\", \"height\": \"200\", \"width\": \"356\", \"webp\": \"https://media1.giphy.com/media/Ov5NiLVXT8JEc/200_d.webp?cid=e1bb72ff5a8e4877344d53506749c515\", \"webp_size\": \"73220\", \"size\": \"242229\"}, \"downsized_small\": {\"width\": \"500\", \"mp4\": \"https://media1.giphy.com/media/Ov5NiLVXT8JEc/giphy-downsized-small.mp4?cid=e1bb72ff5a8e4877344d53506749c515\", \"mp4_size\": \"149771\", \"height\": \"280\"}, \"original_mp4\": {\"width\": \"480\", \"mp4\": \"https://media1.giphy.com/media/Ov5NiLVXT8JEc/giphy.mp4?cid=e1bb72ff5a8e4877344d53506749c515\", \"mp4_size\": \"121585\", \"height\": \"268\"}, \"downsized_still\": {\"url\": \"https://media1.giphy.com/media/Ov5NiLVXT8JEc/giphy_s.gif?cid=e1bb72ff5a8e4877344d53506749c515\", \"width\": \"500\", \"height\": \"281\"}, \"looping\": {\"mp4\": \"https://media1.giphy.com/media/Ov5NiLVXT8JEc/giphy-loop.mp4?cid=e1bb72ff5a8e4877344d53506749c515\", \"mp4_size\": \"968433\"}, \"downsized_large\": {\"url\": \"https://media1.giphy.com/media/Ov5NiLVXT8JEc/giphy.gif?cid=e1bb72ff5a8e4877344d53506749c515\", \"width\": \"500\", \"size\": \"1802952\", \"height\": \"281\"}, \"fixed_width_still\": {\"url\": \"https://media1.giphy.com/media/Ov5NiLVXT8JEc/200w_s.gif?cid=e1bb72ff5a8e4877344d53506749c515\", \"width\": \"200\", \"height\": \"112\"}, \"downsized\": {\"url\": \"https://media1.giphy.com/media/Ov5NiLVXT8JEc/giphy.gif?cid=e1bb72ff5a8e4877344d53506749c515\", \"width\": \"500\", \"size\": \"1802952\", \"height\": \"281\"}, \"original\": {\"url\": \"https://media1.giphy.com/media/Ov5NiLVXT8JEc/giphy.gif?cid=e1bb72ff5a8e4877344d53506749c515\", \"webp\": \"https://media1.giphy.com/media/Ov5NiLVXT8JEc/giphy.webp?cid=e1bb72ff5a8e4877344d53506749c515\", \"height\": \"281\", \"width\": \"500\", \"mp4\": \"https://media1.giphy.com/media/Ov5NiLVXT8JEc/giphy.mp4?cid=e1bb72ff5a8e4877344d53506749c515\", \"webp_size\": \"538448\", \"mp4_size\": \"121585\", \"frames\": \"22\", \"size\": \"1802952\"}}, \"title\": \"star wars fighting GIF\", \"trending_datetime\": \"2015-10-19 21:26:46\", \"source_post_url\": \"https://hobolunchbox.tumblr.com/post/96197585095/the-force-is-strong-with-mr-pickles\", \"content_url\": \"\", \"slug\": \"cats-light-sabers-Ov5NiLVXT8JEc\", \"source\": \"https://hobolunchbox.tumblr.com/post/96197585095/the-force-is-strong-with-mr-pickles\", \"source_tld\": \"hobolunchbox.tumblr.com\", \"is_sticker\": 0, \"bitly_gif_url\": \"https://gph.is/1B5sZnz\", \"type\": \"gif\", \"id\": \"Ov5NiLVXT8JEc\", \"import_datetime\": \"2014-08-30 20:50:33\", \"bitly_url\": \"https://gph.is/1B5sZnz\"}, {\"username\": \"\", \"rating\": \"g\", \"embed_url\": \"https://giphy.com/embed/W3QKEujo8vztC\", \"is_indexable\": 1, \"url\": \"https://giphy.com/gifs/cats-blanket-W3QKEujo8vztC\", \"images\": {\"fixed_height_still\": {\"url\": \"https://media2.giphy.com/media/W3QKEujo8vztC/200_s.gif?cid=e1bb72ff5a8e4877344d53506749c515\", \"width\": \"209\", \"height\": \"200\"}, \"fixed_width_small\": {\"url\": \"https://media2.giphy.com/media/W3QKEujo8vztC/100w.gif?cid=e1bb72ff5a8e4877344d53506749c515\", \"webp\": \"https://media2.giphy.com/media/W3QKEujo8vztC/100w.webp?cid=e1bb72ff5a8e4877344d53506749c515\", \"height\": \"96\", \"width\": \"100\", \"mp4\": \"https://media2.giphy.com/media/W3QKEujo8vztC/100w.mp4?cid=e1bb72ff5a8e4877344d53506749c515\", \"webp_size\": \"57228\", \"mp4_size\": \"4252\", \"size\": \"61192\"}, \"fixed_width_small_still\": {\"url\": \"https://media2.giphy.com/media/W3QKEujo8vztC/100w_s.gif?cid=e1bb72ff5a8e4877344d53506749c515\", \"width\": \"100\", \"height\": \"96\"}, \"preview_webp\": {\"url\": \"https://media2.giphy.com/media/W3QKEujo8vztC/giphy-preview.webp?cid=e1bb72ff5a8e4877344d53506749c515\", \"width\": \"182\", \"size\": \"48944\", \"height\": \"174\"}, \"fixed_height\": {\"url\": \"https://media2.giphy.com/media/W3QKEujo8vztC/200.gif?cid=e1bb72ff5a8e4877344d53506749c515\", \"webp\": \"https://media2.giphy.com/media/W3QKEujo8vztC/200.webp?cid=e1bb72ff5a8e4877344d53506749c515\", \"height\": \"200\", \"width\": \"209\", \"mp4\": \"https://media2.giphy.com/media/W3QKEujo8vztC/200.mp4?cid=e1bb72ff5a8e4877344d53506749c515\", \"webp_size\": \"172382\", \"mp4_size\": \"10066\", \"size\": \"226325\"}, \"fixed_height_small_still\": {\"url\": \"https://media2.giphy.com/media/W3QKEujo8vztC/100_s.gif?cid=e1bb72ff5a8e4877344d53506749c515\", \"width\": \"104\", \"height\": \"100\"}, \"480w_still\": {\"url\": \"https://media2.giphy.com/media/W3QKEujo8vztC/480w_s.jpg?cid=e1bb72ff5a8e4877344d53506749c515\", \"width\": \"480\", \"size\": \"28976\", \"height\": \"460\"}, \"downsized_medium\": {\"url\": \"https://media2.giphy.com/media/W3QKEujo8vztC/giphy.gif?cid=e1bb72ff5a8e4877344d53506749c515\", \"width\": \"500\", \"size\": \"1527014\", \"height\": \"479\"}, \"preview\": {\"width\": \"500\", \"mp4\": \"https://media2.giphy.com/media/W3QKEujo8vztC/giphy-preview.mp4?cid=e1bb72ff5a8e4877344d53506749c515\", \"mp4_size\": \"43744\", \"height\": \"478\"}, \"preview_gif\": {\"url\": \"https://media2.giphy.com/media/W3QKEujo8vztC/giphy-preview.gif?cid=e1bb72ff5a8e4877344d53506749c515\", \"width\": \"151\", \"size\": \"46828\", \"height\": \"145\"}, \"fixed_height_small\": {\"url\": \"https://media2.giphy.com/media/W3QKEujo8vztC/100.gif?cid=e1bb72ff5a8e4877344d53506749c515\", \"webp\": \"https://media2.giphy.com/media/W3QKEujo8vztC/100.webp?cid=e1bb72ff5a8e4877344d53506749c515\", \"height\": \"100\", \"width\": \"104\", \"mp4\": \"https://media2.giphy.com/media/W3QKEujo8vztC/100.mp4?cid=e1bb72ff5a8e4877344d53506749c515\", \"webp_size\": \"59936\", \"mp4_size\": \"4432\", \"size\": \"62587\"}, \"fixed_width\": {\"url\": \"https://media2.giphy.com/media/W3QKEujo8vztC/200w.gif?cid=e1bb72ff5a8e4877344d53506749c515\", \"webp\": \"https://media2.giphy.com/media/W3QKEujo8vztC/200w.webp?cid=e1bb72ff5a8e4877344d53506749c515\", \"height\": \"192\", \"width\": \"200\", \"mp4\": \"https://media2.giphy.com/media/W3QKEujo8vztC/200w.mp4?cid=e1bb72ff5a8e4877344d53506749c515\", \"webp_size\": \"159622\", \"mp4_size\": \"9367\", \"size\": \"210484\"}, \"fixed_width_downsampled\": {\"url\": \"https://media2.giphy.com/media/W3QKEujo8vztC/200w_d.gif?cid=e1bb72ff5a8e4877344d53506749c515\", \"height\": \"192\", \"width\": \"200\", \"webp\": \"https://media2.giphy.com/media/W3QKEujo8vztC/200w_d.webp?cid=e1bb72ff5a8e4877344d53506749c515\", \"webp_size\": \"57268\", \"size\": \"105239\"}, \"original_still\": {\"url\": \"https://media2.giphy.com/media/W3QKEujo8vztC/giphy_s.gif?cid=e1bb72ff5a8e4877344d53506749c515\", \"width\": \"500\", \"height\": \"479\"}, \"fixed_height_downsampled\": {\"url\": \"https://media2.giphy.com/media/W3QKEujo8vztC/200_d.gif?cid=e1bb72ff5a8e4877344d53506749c515\", \"height\": \"200\", \"width\": \"209\", \"webp\": \"https://media2.giphy.com/media/W3QKEujo8vztC/200_d.webp?cid=e1bb72ff5a8e4877344d53506749c515\", \"webp_size\": \"61854\", \"size\": \"112228\"}, \"downsized_small\": {\"width\": \"500\", \"mp4\": \"https://media2.giphy.com/media/W3QKEujo8vztC/giphy-downsized-small.mp4?cid=e1bb72ff5a8e4877344d53506749c515\", \"mp4_size\": \"43744\", \"height\": \"478\"}, \"original_mp4\": {\"width\": \"480\", \"mp4\": \"https://media2.giphy.com/media/W3QKEujo8vztC/giphy.mp4?cid=e1bb72ff5a8e4877344d53506749c515\", \"mp4_size\": \"34105\", \"height\": \"458\"}, \"downsized_still\": {\"url\": \"https://media2.giphy.com/media/W3QKEujo8vztC/giphy_s.gif?cid=e1bb72ff5a8e4877344d53506749c515\", \"width\": \"500\", \"height\": \"479\"}, \"looping\": {\"mp4\": \"https://media2.giphy.com/media/W3QKEujo8vztC/giphy-loop.mp4?cid=e1bb72ff5a8e4877344d53506749c515\", \"mp4_size\": \"1089862\"}, \"downsized_large\": {\"url\": \"https://media2.giphy.com/media/W3QKEujo8vztC/giphy.gif?cid=e1bb72ff5a8e4877344d53506749c515\", \"width\": \"500\", \"size\": \"1527014\", \"height\": \"479\"}, \"fixed_width_still\": {\"url\": \"https://media2.giphy.com/media/W3QKEujo8vztC/200w_s.gif?cid=e1bb72ff5a8e4877344d53506749c515\", \"width\": \"200\", \"height\": \"192\"}, \"downsized\": {\"url\": \"https://media2.giphy.com/media/W3QKEujo8vztC/giphy.gif?cid=e1bb72ff5a8e4877344d53506749c515\", \"width\": \"500\", \"size\": \"1527014\", \"height\": \"479\"}, \"original\": {\"url\": \"https://media2.giphy.com/media/W3QKEujo8vztC/giphy.gif?cid=e1bb72ff5a8e4877344d53506749c515\", \"webp\": \"https://media2.giphy.com/media/W3QKEujo8vztC/giphy.webp?cid=e1bb72ff5a8e4877344d53506749c515\", \"height\": \"479\", \"width\": \"500\", \"mp4\": \"https://media2.giphy.com/media/W3QKEujo8vztC/giphy.mp4?cid=e1bb72ff5a8e4877344d53506749c515\", \"webp_size\": \"727898\", \"mp4_size\": \"34105\", \"frames\": \"17\", \"size\": \"1527014\"}}, \"title\": \"cold cat GIF\", \"trending_datetime\": \"2017-11-26 21:15:02\", \"source_post_url\": \"https://www.reddit.com/r/gifs/comments/3v1amj/two_little_cats_under_blanket/\", \"content_url\": \"\", \"slug\": \"cats-blanket-W3QKEujo8vztC\", \"source\": \"https://www.reddit.com/r/gifs/comments/3v1amj/two_little_cats_under_blanket/\", \"source_tld\": \"www.reddit.com\", \"is_sticker\": 0, \"bitly_gif_url\": \"https://gph.is/1Pst7YA\", \"type\": \"gif\", \"id\": \"W3QKEujo8vztC\", \"import_datetime\": \"2015-12-01 19:25:51\", \"bitly_url\": \"https://gph.is/1Pst7YA\"}, {\"username\": \"\", \"rating\": \"g\", \"embed_url\": \"https://giphy.com/embed/aC45M5Q4D07Pq\", \"is_indexable\": 0, \"url\": \"https://giphy.com/gifs/cat-funny-animation-aC45M5Q4D07Pq\", \"images\": {\"fixed_height_still\": {\"url\": \"https://media2.giphy.com/media/aC45M5Q4D07Pq/200_s.gif?cid=e1bb72ff5a8e4877344d53506749c515\", \"width\": \"267\", \"height\": \"200\"}, \"fixed_width_small\": {\"url\": \"https://media2.giphy.com/media/aC45M5Q4D07Pq/100w.gif?cid=e1bb72ff5a8e4877344d53506749c515\", \"webp\": \"https://media2.giphy.com/media/aC45M5Q4D07Pq/100w.webp?cid=e1bb72ff5a8e4877344d53506749c515\", \"height\": \"75\", \"width\": \"100\", \"mp4\": \"https://media2.giphy.com/media/aC45M5Q4D07Pq/100w.mp4?cid=e1bb72ff5a8e4877344d53506749c515\", \"webp_size\": \"49416\", \"mp4_size\": \"28230\", \"size\": \"158984\"}, \"fixed_width_small_still\": {\"url\": \"https://media2.giphy.com/media/aC45M5Q4D07Pq/100w_s.gif?cid=e1bb72ff5a8e4877344d53506749c515\", \"width\": \"100\", \"height\": \"75\"}, \"preview_webp\": {\"url\": \"https://media2.giphy.com/media/aC45M5Q4D07Pq/giphy-preview.webp?cid=e1bb72ff5a8e4877344d53506749c515\", \"width\": \"183\", \"size\": \"49910\", \"height\": \"137\"}, \"fixed_height\": {\"url\": \"https://media2.giphy.com/media/aC45M5Q4D07Pq/200.gif?cid=e1bb72ff5a8e4877344d53506749c515\", \"webp\": \"https://media2.giphy.com/media/aC45M5Q4D07Pq/200.webp?cid=e1bb72ff5a8e4877344d53506749c515\", \"height\": \"200\", \"width\": \"267\", \"mp4\": \"https://media2.giphy.com/media/aC45M5Q4D07Pq/200.mp4?cid=e1bb72ff5a8e4877344d53506749c515\", \"webp_size\": \"238328\", \"mp4_size\": \"14331\", \"size\": \"262492\"}, \"fixed_height_small_still\": {\"url\": \"https://media2.giphy.com/media/aC45M5Q4D07Pq/100_s.gif?cid=e1bb72ff5a8e4877344d53506749c515\", \"width\": \"133\", \"height\": \"100\"}, \"480w_still\": {\"url\": \"https://media1.giphy.com/media/aC45M5Q4D07Pq/480w_s.jpg?cid=e1bb72ff5a8e4877344d53506749c515\", \"width\": \"480\", \"height\": \"360\"}, \"downsized_medium\": {\"url\": \"https://media2.giphy.com/media/aC45M5Q4D07Pq/giphy.gif?cid=e1bb72ff5a8e4877344d53506749c515\", \"width\": \"480\", \"size\": \"1014141\", \"height\": \"360\"}, \"preview\": {\"width\": \"430\", \"mp4\": \"https://media2.giphy.com/media/aC45M5Q4D07Pq/giphy-preview.mp4?cid=e1bb72ff5a8e4877344d53506749c515\", \"mp4_size\": \"44084\", \"height\": \"322\"}, \"preview_gif\": {\"url\": \"https://media2.giphy.com/media/aC45M5Q4D07Pq/giphy-preview.gif?cid=e1bb72ff5a8e4877344d53506749c515\", \"width\": \"117\", \"size\": \"49856\", \"height\": \"88\"}, \"fixed_height_small\": {\"url\": \"https://media2.giphy.com/media/aC45M5Q4D07Pq/100.gif?cid=e1bb72ff5a8e4877344d53506749c515\", \"webp\": \"https://media2.giphy.com/media/aC45M5Q4D07Pq/100.webp?cid=e1bb72ff5a8e4877344d53506749c515\", \"height\": \"100\", \"width\": \"133\", \"mp4\": \"https://media2.giphy.com/media/aC45M5Q4D07Pq/100.mp4?cid=e1bb72ff5a8e4877344d53506749c515\", \"webp_size\": \"77792\", \"mp4_size\": \"31479\", \"size\": \"262492\"}, \"fixed_width\": {\"url\": \"https://media2.giphy.com/media/aC45M5Q4D07Pq/200w.gif?cid=e1bb72ff5a8e4877344d53506749c515\", \"webp\": \"https://media2.giphy.com/media/aC45M5Q4D07Pq/200w.webp?cid=e1bb72ff5a8e4877344d53506749c515\", \"height\": \"150\", \"width\": \"200\", \"mp4\": \"https://media2.giphy.com/media/aC45M5Q4D07Pq/200w.mp4?cid=e1bb72ff5a8e4877344d53506749c515\", \"webp_size\": \"157304\", \"mp4_size\": \"18755\", \"size\": \"158984\"}, \"fixed_width_downsampled\": {\"url\": \"https://media2.giphy.com/media/aC45M5Q4D07Pq/200w_d.gif?cid=e1bb72ff5a8e4877344d53506749c515\", \"height\": \"150\", \"width\": \"200\", \"webp\": \"https://media2.giphy.com/media/aC45M5Q4D07Pq/200w_d.webp?cid=e1bb72ff5a8e4877344d53506749c515\", \"webp_size\": \"37820\", \"size\": \"135919\"}, \"original_still\": {\"url\": \"https://media2.giphy.com/media/aC45M5Q4D07Pq/giphy_s.gif?cid=e1bb72ff5a8e4877344d53506749c515\", \"width\": \"480\", \"height\": \"360\"}, \"fixed_height_downsampled\": {\"url\": \"https://media2.giphy.com/media/aC45M5Q4D07Pq/200_d.gif?cid=e1bb72ff5a8e4877344d53506749c515\", \"height\": \"200\", \"width\": \"267\", \"webp\": \"https://media2.giphy.com/media/aC45M5Q4D07Pq/200_d.webp?cid=e1bb72ff5a8e4877344d53506749c515\", \"webp_size\": \"57292\", \"size\": \"217595\"}, \"downsized_small\": {\"width\": \"480\", \"mp4\": \"https://media2.giphy.com/media/aC45M5Q4D07Pq/giphy-downsized-small.mp4?cid=e1bb72ff5a8e4877344d53506749c515\", \"mp4_size\": \"61768\", \"height\": \"360\"}, \"original_mp4\": {\"width\": \"480\", \"mp4\": \"https://media2.giphy.com/media/aC45M5Q4D07Pq/giphy.mp4?cid=e1bb72ff5a8e4877344d53506749c515\", \"mp4_size\": \"62457\", \"height\": \"360\"}, \"downsized_still\": {\"url\": \"https://media2.giphy.com/media/aC45M5Q4D07Pq/giphy-downsized_s.gif?cid=e1bb72ff5a8e4877344d53506749c515\", \"width\": \"480\", \"size\": \"66043\", \"height\": \"360\"}, \"looping\": {\"mp4\": \"https://media2.giphy.com/media/aC45M5Q4D07Pq/giphy-loop.mp4?cid=e1bb72ff5a8e4877344d53506749c515\", \"mp4_size\": \"3717877\"}, \"downsized_large\": {\"url\": \"https://media2.giphy.com/media/aC45M5Q4D07Pq/giphy.gif?cid=e1bb72ff5a8e4877344d53506749c515\", \"width\": \"480\", \"size\": \"1014141\", \"height\": \"360\"}, \"fixed_width_still\": {\"url\": \"https://media2.giphy.com/media/aC45M5Q4D07Pq/200w_s.gif?cid=e1bb72ff5a8e4877344d53506749c515\", \"width\": \"200\", \"height\": \"150\"}, \"downsized\": {\"url\": \"https://media2.giphy.com/media/aC45M5Q4D07Pq/giphy-downsized.gif?cid=e1bb72ff5a8e4877344d53506749c515\", \"width\": \"480\", \"size\": \"1014141\", \"height\": \"360\"}, \"original\": {\"url\": \"https://media2.giphy.com/media/aC45M5Q4D07Pq/giphy.gif?cid=e1bb72ff5a8e4877344d53506749c515\", \"webp\": \"https://media2.giphy.com/media/aC45M5Q4D07Pq/giphy.webp?cid=e1bb72ff5a8e4877344d53506749c515\", \"height\": \"360\", \"width\": \"480\", \"mp4\": \"https://media2.giphy.com/media/aC45M5Q4D07Pq/giphy.mp4?cid=e1bb72ff5a8e4877344d53506749c515\", \"webp_size\": \"519212\", \"mp4_size\": \"62457\", \"frames\": \"25\", \"size\": \"1014141\"}}, \"title\": \"cat massaging GIF\", \"trending_datetime\": \"1970-01-01 00:00:00\", \"source_post_url\": \"https://gifbinge.tumblr.com/post/56881793567/que-gustito\", \"content_url\": \"\", \"slug\": \"cat-funny-animation-aC45M5Q4D07Pq\", \"source\": \"https://gifbinge.tumblr.com/post/56881793567/que-gustito\", \"source_tld\": \"gifbinge.tumblr.com\", \"is_sticker\": 0, \"bitly_gif_url\": \"https://gph.is/11sgz9i\", \"type\": \"gif\", \"id\": \"aC45M5Q4D07Pq\", \"import_datetime\": \"2013-07-30 12:10:58\", \"bitly_url\": \"https://gph.is/11sgz9i\"}, {\"username\": \"producthunt\", \"rating\": \"g\", \"embed_url\": \"https://giphy.com/embed/3o72EX5QZ9N9d51dqo\", \"images\": {\"fixed_height_still\": {\"url\": \"https://media3.giphy.com/media/3o72EX5QZ9N9d51dqo/200_s.gif?cid=e1bb72ff5a8e4877344d53506749c515\", \"width\": \"384\", \"height\": \"200\"}, \"fixed_width_small\": {\"url\": \"https://media3.giphy.com/media/3o72EX5QZ9N9d51dqo/100w.gif?cid=e1bb72ff5a8e4877344d53506749c515\", \"webp\": \"https://media3.giphy.com/media/3o72EX5QZ9N9d51dqo/100w.webp?cid=e1bb72ff5a8e4877344d53506749c515\", \"height\": \"52\", \"width\": \"100\", \"mp4\": \"https://media3.giphy.com/media/3o72EX5QZ9N9d51dqo/100w.mp4?cid=e1bb72ff5a8e4877344d53506749c515\", \"webp_size\": \"53824\", \"mp4_size\": \"10996\", \"size\": \"78913\"}, \"fixed_width_small_still\": {\"url\": \"https://media3.giphy.com/media/3o72EX5QZ9N9d51dqo/100w_s.gif?cid=e1bb72ff5a8e4877344d53506749c515\", \"width\": \"100\", \"height\": \"52\"}, \"preview_webp\": {\"url\": \"https://media3.giphy.com/media/3o72EX5QZ9N9d51dqo/giphy-preview.webp?cid=e1bb72ff5a8e4877344d53506749c515\", \"width\": \"146\", \"size\": \"48646\", \"height\": \"76\"}, \"fixed_height\": {\"url\": \"https://media3.giphy.com/media/3o72EX5QZ9N9d51dqo/200.gif?cid=e1bb72ff5a8e4877344d53506749c515\", \"webp\": \"https://media3.giphy.com/media/3o72EX5QZ9N9d51dqo/200.webp?cid=e1bb72ff5a8e4877344d53506749c515\", \"height\": \"200\", \"width\": \"384\", \"mp4\": \"https://media3.giphy.com/media/3o72EX5QZ9N9d51dqo/200.mp4?cid=e1bb72ff5a8e4877344d53506749c515\", \"webp_size\": \"328312\", \"mp4_size\": \"53724\", \"size\": \"848855\"}, \"fixed_height_small_still\": {\"url\": \"https://media3.giphy.com/media/3o72EX5QZ9N9d51dqo/100_s.gif?cid=e1bb72ff5a8e4877344d53506749c515\", \"width\": \"192\", \"height\": \"100\"}, \"480w_still\": {\"url\": \"https://media4.giphy.com/media/3o72EX5QZ9N9d51dqo/480w_s.jpg?cid=e1bb72ff5a8e4877344d53506749c515\", \"width\": \"480\", \"height\": \"250\"}, \"downsized_medium\": {\"url\": \"https://media3.giphy.com/media/3o72EX5QZ9N9d51dqo/giphy.gif?cid=e1bb72ff5a8e4877344d53506749c515\", \"width\": \"680\", \"size\": \"2218338\", \"height\": \"354\"}, \"preview\": {\"width\": \"330\", \"mp4\": \"https://media3.giphy.com/media/3o72EX5QZ9N9d51dqo/giphy-preview.mp4?cid=e1bb72ff5a8e4877344d53506749c515\", \"mp4_size\": \"43887\", \"height\": \"170\"}, \"preview_gif\": {\"url\": \"https://media3.giphy.com/media/3o72EX5QZ9N9d51dqo/giphy-preview.gif?cid=e1bb72ff5a8e4877344d53506749c515\", \"width\": \"125\", \"size\": \"48211\", \"height\": \"65\"}, \"fixed_height_small\": {\"url\": \"https://media3.giphy.com/media/3o72EX5QZ9N9d51dqo/100.gif?cid=e1bb72ff5a8e4877344d53506749c515\", \"webp\": \"https://media3.giphy.com/media/3o72EX5QZ9N9d51dqo/100.webp?cid=e1bb72ff5a8e4877344d53506749c515\", \"height\": \"100\", \"width\": \"192\", \"mp4\": \"https://media3.giphy.com/media/3o72EX5QZ9N9d51dqo/100.mp4?cid=e1bb72ff5a8e4877344d53506749c515\", \"webp_size\": \"134630\", \"mp4_size\": \"25192\", \"size\": \"255091\"}, \"fixed_width\": {\"url\": \"https://media3.giphy.com/media/3o72EX5QZ9N9d51dqo/200w.gif?cid=e1bb72ff5a8e4877344d53506749c515\", \"webp\": \"https://media3.giphy.com/media/3o72EX5QZ9N9d51dqo/200w.webp?cid=e1bb72ff5a8e4877344d53506749c515\", \"height\": \"104\", \"width\": \"200\", \"mp4\": \"https://media3.giphy.com/media/3o72EX5QZ9N9d51dqo/200w.mp4?cid=e1bb72ff5a8e4877344d53506749c515\", \"webp_size\": \"143644\", \"mp4_size\": \"26044\", \"size\": \"267677\"}, \"fixed_width_downsampled\": {\"url\": \"https://media3.giphy.com/media/3o72EX5QZ9N9d51dqo/200w_d.gif?cid=e1bb72ff5a8e4877344d53506749c515\", \"height\": \"104\", \"width\": \"200\", \"webp\": \"https://media3.giphy.com/media/3o72EX5QZ9N9d51dqo/200w_d.webp?cid=e1bb72ff5a8e4877344d53506749c515\", \"webp_size\": \"45544\", \"size\": \"93282\"}, \"original_still\": {\"url\": \"https://media3.giphy.com/media/3o72EX5QZ9N9d51dqo/giphy_s.gif?cid=e1bb72ff5a8e4877344d53506749c515\", \"width\": \"680\", \"height\": \"354\"}, \"fixed_height_downsampled\": {\"url\": \"https://media3.giphy.com/media/3o72EX5QZ9N9d51dqo/200_d.gif?cid=e1bb72ff5a8e4877344d53506749c515\", \"height\": \"200\", \"width\": \"384\", \"webp\": \"https://media3.giphy.com/media/3o72EX5QZ9N9d51dqo/200_d.webp?cid=e1bb72ff5a8e4877344d53506749c515\", \"webp_size\": \"104026\", \"size\": \"284924\"}, \"downsized_small\": {\"width\": \"680\", \"mp4\": \"https://media3.giphy.com/media/3o72EX5QZ9N9d51dqo/giphy-downsized-small.mp4?cid=e1bb72ff5a8e4877344d53506749c515\", \"mp4_size\": \"134785\", \"height\": \"354\"}, \"original_mp4\": {\"width\": \"480\", \"mp4\": \"https://media3.giphy.com/media/3o72EX5QZ9N9d51dqo/giphy.mp4?cid=e1bb72ff5a8e4877344d53506749c515\", \"mp4_size\": \"70326\", \"height\": \"248\"}, \"downsized_still\": {\"url\": \"https://media3.giphy.com/media/3o72EX5QZ9N9d51dqo/giphy-tumblr_s.gif?cid=e1bb72ff5a8e4877344d53506749c515\", \"width\": \"500\", \"height\": \"260\"}, \"looping\": {\"mp4\": \"https://media3.giphy.com/media/3o72EX5QZ9N9d51dqo/giphy-loop.mp4?cid=e1bb72ff5a8e4877344d53506749c515\", \"mp4_size\": \"805212\"}, \"downsized_large\": {\"url\": \"https://media3.giphy.com/media/3o72EX5QZ9N9d51dqo/giphy.gif?cid=e1bb72ff5a8e4877344d53506749c515\", \"width\": \"680\", \"size\": \"2218338\", \"height\": \"354\"}, \"fixed_width_still\": {\"url\": \"https://media3.giphy.com/media/3o72EX5QZ9N9d51dqo/200w_s.gif?cid=e1bb72ff5a8e4877344d53506749c515\", \"width\": \"200\", \"height\": \"104\"}, \"downsized\": {\"url\": \"https://media3.giphy.com/media/3o72EX5QZ9N9d51dqo/giphy-tumblr.gif?cid=e1bb72ff5a8e4877344d53506749c515\", \"width\": \"500\", \"size\": \"1325799\", \"height\": \"260\"}, \"original\": {\"url\": \"https://media3.giphy.com/media/3o72EX5QZ9N9d51dqo/giphy.gif?cid=e1bb72ff5a8e4877344d53506749c515\", \"webp\": \"https://media3.giphy.com/media/3o72EX5QZ9N9d51dqo/giphy.webp?cid=e1bb72ff5a8e4877344d53506749c515\", \"height\": \"354\", \"width\": \"680\", \"mp4\": \"https://media3.giphy.com/media/3o72EX5QZ9N9d51dqo/giphy.mp4?cid=e1bb72ff5a8e4877344d53506749c515\", \"webp_size\": \"675100\", \"mp4_size\": \"70326\", \"frames\": \"19\", \"size\": \"2218338\"}}, \"is_indexable\": 1, \"url\": \"https://giphy.com/gifs/producthunt-cats-music-streaming-3o72EX5QZ9N9d51dqo\", \"user\": {\"username\": \"producthunt\", \"display_name\": \"Product Hunt\", \"banner_url\": \"https://media.giphy.com/headers/producthunt/upKxmTbSoKwU.jpg\", \"twitter\": \"@ProductHunt\", \"avatar_url\": \"https://media.giphy.com/avatars/producthunt/DgeHhyfC27o9.jpg\", \"is_verified\": true, \"profile_url\": \"https://giphy.com/producthunt/\"}, \"title\": \"cats dj GIF by Product Hunt\", \"trending_datetime\": \"2016-08-23 13:00:01\", \"source_post_url\": \"https://www.producthunt.com/topics/music-streaming\", \"content_url\": \"\", \"slug\": \"producthunt-cats-music-streaming-3o72EX5QZ9N9d51dqo\", \"source\": \"https://www.producthunt.com/topics/music-streaming\", \"source_tld\": \"www.producthunt.com\", \"is_sticker\": 0, \"bitly_gif_url\": \"https://gph.is/29jEXUA\", \"type\": \"gif\", \"id\": \"3o72EX5QZ9N9d51dqo\", \"import_datetime\": \"2016-06-30 23:58:11\", \"bitly_url\": \"https://gph.is/29jEXUA\"}, {\"username\": \"\", \"rating\": \"g\", \"embed_url\": \"https://giphy.com/embed/aEXP6scfSSwQo\", \"is_indexable\": 1, \"url\": \"https://giphy.com/gifs/aEXP6scfSSwQo\", \"images\": {\"fixed_height_still\": {\"url\": \"https://media0.giphy.com/media/aEXP6scfSSwQo/200_s.gif?cid=e1bb72ff5a8e4877344d53506749c515\", \"width\": \"267\", \"height\": \"200\"}, \"fixed_width_small\": {\"url\": \"https://media0.giphy.com/media/aEXP6scfSSwQo/100w.gif?cid=e1bb72ff5a8e4877344d53506749c515\", \"webp\": \"https://media0.giphy.com/media/aEXP6scfSSwQo/100w.webp?cid=e1bb72ff5a8e4877344d53506749c515\", \"height\": \"75\", \"width\": \"100\", \"mp4\": \"https://media0.giphy.com/media/aEXP6scfSSwQo/100w.mp4?cid=e1bb72ff5a8e4877344d53506749c515\", \"webp_size\": \"25738\", \"mp4_size\": \"3734\", \"size\": \"58973\"}, \"fixed_width_small_still\": {\"url\": \"https://media0.giphy.com/media/aEXP6scfSSwQo/100w_s.gif?cid=e1bb72ff5a8e4877344d53506749c515\", \"width\": \"100\", \"height\": \"75\"}, \"preview_webp\": {\"url\": \"https://media0.giphy.com/media/aEXP6scfSSwQo/giphy-preview.webp?cid=e1bb72ff5a8e4877344d53506749c515\", \"width\": \"281\", \"size\": \"42806\", \"height\": \"211\"}, \"fixed_height\": {\"url\": \"https://media0.giphy.com/media/aEXP6scfSSwQo/200.gif?cid=e1bb72ff5a8e4877344d53506749c515\", \"webp\": \"https://media0.giphy.com/media/aEXP6scfSSwQo/200.webp?cid=e1bb72ff5a8e4877344d53506749c515\", \"height\": \"200\", \"width\": \"267\", \"mp4\": \"https://media0.giphy.com/media/aEXP6scfSSwQo/200.mp4?cid=e1bb72ff5a8e4877344d53506749c515\", \"webp_size\": \"111042\", \"mp4_size\": \"10926\", \"size\": \"364674\"}, \"fixed_height_small_still\": {\"url\": \"https://media0.giphy.com/media/aEXP6scfSSwQo/100_s.gif?cid=e1bb72ff5a8e4877344d53506749c515\", \"width\": \"133\", \"height\": \"100\"}, \"480w_still\": {\"url\": \"https://media0.giphy.com/media/aEXP6scfSSwQo/480w_s.jpg?cid=e1bb72ff5a8e4877344d53506749c515\", \"width\": \"480\", \"height\": \"360\"}, \"downsized_medium\": {\"url\": \"https://media0.giphy.com/media/aEXP6scfSSwQo/giphy.gif?cid=e1bb72ff5a8e4877344d53506749c515\", \"width\": \"500\", \"size\": \"809099\", \"height\": \"375\"}, \"preview\": {\"width\": \"500\", \"mp4\": \"https://media0.giphy.com/media/aEXP6scfSSwQo/giphy-preview.mp4?cid=e1bb72ff5a8e4877344d53506749c515\", \"mp4_size\": \"36943\", \"height\": \"374\"}, \"preview_gif\": {\"url\": \"https://media0.giphy.com/media/aEXP6scfSSwQo/giphy-preview.gif?cid=e1bb72ff5a8e4877344d53506749c515\", \"width\": \"167\", \"size\": \"48281\", \"height\": \"125\"}, \"fixed_height_small\": {\"url\": \"https://media0.giphy.com/media/aEXP6scfSSwQo/100.gif?cid=e1bb72ff5a8e4877344d53506749c515\", \"webp\": \"https://media0.giphy.com/media/aEXP6scfSSwQo/100.webp?cid=e1bb72ff5a8e4877344d53506749c515\", \"height\": \"100\", \"width\": \"133\", \"mp4\": \"https://media0.giphy.com/media/aEXP6scfSSwQo/100.mp4?cid=e1bb72ff5a8e4877344d53506749c515\", \"webp_size\": \"37194\", \"mp4_size\": \"4844\", \"size\": \"96352\"}, \"fixed_width\": {\"url\": \"https://media0.giphy.com/media/aEXP6scfSSwQo/200w.gif?cid=e1bb72ff5a8e4877344d53506749c515\", \"webp\": \"https://media0.giphy.com/media/aEXP6scfSSwQo/200w.webp?cid=e1bb72ff5a8e4877344d53506749c515\", \"height\": \"150\", \"width\": \"200\", \"mp4\": \"https://media0.giphy.com/media/aEXP6scfSSwQo/200w.mp4?cid=e1bb72ff5a8e4877344d53506749c515\", \"webp_size\": \"69996\", \"mp4_size\": \"7625\", \"size\": \"209546\"}, \"fixed_width_downsampled\": {\"url\": \"https://media0.giphy.com/media/aEXP6scfSSwQo/200w_d.gif?cid=e1bb72ff5a8e4877344d53506749c515\", \"height\": \"150\", \"width\": \"200\", \"webp\": \"https://media0.giphy.com/media/aEXP6scfSSwQo/200w_d.webp?cid=e1bb72ff5a8e4877344d53506749c515\", \"webp_size\": \"37888\", \"size\": \"116344\"}, \"original_still\": {\"url\": \"https://media0.giphy.com/media/aEXP6scfSSwQo/giphy_s.gif?cid=e1bb72ff5a8e4877344d53506749c515\", \"width\": \"500\", \"height\": \"375\"}, \"fixed_height_downsampled\": {\"url\": \"https://media0.giphy.com/media/aEXP6scfSSwQo/200_d.gif?cid=e1bb72ff5a8e4877344d53506749c515\", \"height\": \"200\", \"width\": \"267\", \"webp\": \"https://media0.giphy.com/media/aEXP6scfSSwQo/200_d.webp?cid=e1bb72ff5a8e4877344d53506749c515\", \"webp_size\": \"60488\", \"size\": \"202283\"}, \"downsized_small\": {\"width\": \"500\", \"mp4\": \"https://media0.giphy.com/media/aEXP6scfSSwQo/giphy-downsized-small.mp4?cid=e1bb72ff5a8e4877344d53506749c515\", \"mp4_size\": \"36943\", \"height\": \"374\"}, \"original_mp4\": {\"width\": \"480\", \"mp4\": \"https://media0.giphy.com/media/aEXP6scfSSwQo/giphy.mp4?cid=e1bb72ff5a8e4877344d53506749c515\", \"mp4_size\": \"27294\", \"height\": \"360\"}, \"downsized_still\": {\"url\": \"https://media0.giphy.com/media/aEXP6scfSSwQo/giphy-downsized_s.gif?cid=e1bb72ff5a8e4877344d53506749c515\", \"width\": \"500\", \"size\": \"44484\", \"height\": \"375\"}, \"looping\": {\"mp4\": \"https://media0.giphy.com/media/aEXP6scfSSwQo/giphy-loop.mp4?cid=e1bb72ff5a8e4877344d53506749c515\", \"mp4_size\": \"1297124\"}, \"downsized_large\": {\"url\": \"https://media0.giphy.com/media/aEXP6scfSSwQo/giphy.gif?cid=e1bb72ff5a8e4877344d53506749c515\", \"width\": \"500\", \"size\": \"809099\", \"height\": \"375\"}, \"fixed_width_still\": {\"url\": \"https://media0.giphy.com/media/aEXP6scfSSwQo/200w_s.gif?cid=e1bb72ff5a8e4877344d53506749c515\", \"width\": \"200\", \"height\": \"150\"}, \"downsized\": {\"url\": \"https://media0.giphy.com/media/aEXP6scfSSwQo/giphy-downsized.gif?cid=e1bb72ff5a8e4877344d53506749c515\", \"width\": \"500\", \"size\": \"809099\", \"height\": \"375\"}, \"original\": {\"url\": \"https://media0.giphy.com/media/aEXP6scfSSwQo/giphy.gif?cid=e1bb72ff5a8e4877344d53506749c515\", \"webp\": \"https://media0.giphy.com/media/aEXP6scfSSwQo/giphy.webp?cid=e1bb72ff5a8e4877344d53506749c515\", \"height\": \"375\", \"width\": \"500\", \"mp4\": \"https://media0.giphy.com/media/aEXP6scfSSwQo/giphy.mp4?cid=e1bb72ff5a8e4877344d53506749c515\", \"webp_size\": \"462834\", \"mp4_size\": \"27294\", \"frames\": \"11\", \"size\": \"809099\"}}, \"title\": \"best friends neck kiss GIF\", \"trending_datetime\": \"2017-02-17 02:30:06\", \"source_post_url\": \"https://imgur.com/gallery/4eJVw0b\", \"content_url\": \"\", \"slug\": \"aEXP6scfSSwQo\", \"source\": \"https://imgur.com/gallery/4eJVw0b\", \"source_tld\": \"imgur.com\", \"is_sticker\": 0, \"bitly_gif_url\": \"https://gph.is/299HKBX\", \"type\": \"gif\", \"id\": \"aEXP6scfSSwQo\", \"import_datetime\": \"2016-07-02 10:55:23\", \"bitly_url\": \"https://gph.is/299HKBX\"}]}'\n",
    "giphy_dataset_uri = 'http://api.giphy.com/v1/gifs/search?q=cats&api_key=dc6zaTOxFJmzC&limit=5'\n",
    "def get_giphy_json():\n",
    "    import requests\n",
    "    response = requests.get(giphy_dataset_uri)\n",
    "    if not response.ok:\n",
    "        response.raise_for_status()\n",
    "    return response.json()\n",
    "\n",
    "def load_giphy_data(reset=False):\n",
    "    if reset:\n",
    "        return json.loads(get_giphy_json())\n",
    "    else:\n",
    "        return json.loads(giphy_json_response_sample)"
   ]
  },
  {
   "cell_type": "markdown",
   "metadata": {},
   "source": [
    "Load the data"
   ]
  },
  {
   "cell_type": "code",
   "execution_count": 3,
   "metadata": {},
   "outputs": [],
   "source": [
    "giphydata = load_giphy_data()"
   ]
  },
  {
   "cell_type": "markdown",
   "metadata": {},
   "source": [
    "We'll focus on just one object for now."
   ]
  },
  {
   "cell_type": "code",
   "execution_count": 4,
   "metadata": {},
   "outputs": [],
   "source": [
    "sample_data = giphydata['data'][0]"
   ]
  },
  {
   "cell_type": "markdown",
   "metadata": {},
   "source": [
    "## A. Learning the source data\n",
    "\n",
    "###### Response data (setch)\n",
    "\n",
    "<pre>\n",
    "pagination\n",
    "  ...\n",
    "meta\n",
    "  ...\n",
    "data\n",
    "  [\n",
    "      record,\n",
    "      record,\n",
    "      ...,\n",
    "  ]\n",
    "</pre>\n",
    "\n",
    "###### One of the records in the data collection \n",
    "\n",
    "<pre>\n",
    "field\n",
    "field\n",
    "...\n",
    "images\n",
    "  kind1\n",
    "      field,\n",
    "      field,\n",
    "      ...\n",
    "  kind2\n",
    "      field,\n",
    "      field,\n",
    "      ...\n",
    "  kind3\n",
    "      field,\n",
    "      field,\n",
    "      ...\n",
    "</pre>"
   ]
  },
  {
   "cell_type": "markdown",
   "metadata": {},
   "source": [
    "## B. Use case 1: Filter out unused data\n",
    "\n",
    "We want objects in the collection to have fewer fields.\n",
    "\n",
    "##### Create data like this:\n",
    "\n",
    "<pre>\n",
    "{\n",
    "     \"bitly_gif_url\": \"...\", \n",
    "     \"giphy_id\": \"...\", \n",
    "     \"import_datetime\": \"...\", \n",
    "     \"rating\": \"...\", \n",
    "     \"slug\": \"...\", \n",
    "     \"source\": \"...\", \n",
    "     \"title\": \"...\", \n",
    "     \"image_type\": \"...\", \n",
    "     \"giphy_url\": \"...\", \n",
    "     \"username\": \"...\"\n",
    "}\n",
    "</pre>\n",
    "\n",
    "#####  ... from source data like this\n",
    "\n",
    "<pre>\n",
    "{\n",
    "  \"bitly_gif_url\": \"https://gph.is/1B5sZnz\", \n",
    "  \"bitly_url\": \"https://gph.is/1B5sZnz\", \n",
    "  \"content_url\": \"\", \n",
    "  \"embed_url\": \"https://giphy.com/embed/Ov5NiLVXT8JEc\", \n",
    "  \"id\": \"Ov5NiLVXT8JEc\", \n",
    "  \"images\": {\n",
    "    \"480w_still\": {\n",
    "      \"height\": \"270\", \n",
    "      \"url\": \"https://media2.giphy.com/media/Ov5NiLVXT8JEc/480w_s.jpg?cid=e1bb7...\n",
    "      \"width\": \"480\"\n",
    "    }, \n",
    "    \"downsized\": {\n",
    "      \"height\": \"281\", \n",
    "      \"size\": \"1802952\", \n",
    "      \"url\": \"https://media1.giphy.com/media/Ov5NiLVXT8JEc/giphy.gif?cid=e1bb72...\n",
    "      \"width\": \"500\"\n",
    "    }, \n",
    "    \"downsized_large\": {\n",
    "      \"height\": \"281\", \n",
    "       ...\n",
    "  }, \n",
    "  \"import_datetime\": \"2014-08-30 20:50:33\", \n",
    "  \"is_indexable\": 1, \n",
    "  \"is_sticker\": 0, \n",
    "  \"rating\": \"g\", \n",
    "  \"slug\": \"cats-light-sabers-Ov5NiLVXT8JEc\", \n",
    "  \"source\": \"https://hobolunchbox.tumblr.com/post/96197585095/the-force-is-stro...\n",
    "  \"source_post_url\": \"https://hobolunchbox.tumblr.com/post/96197585095/the-forc...\n",
    "  \"source_tld\": \"hobolunchbox.tumblr.com\", \n",
    "  \"title\": \"star wars fighting GIF\", \n",
    "  \"trending_datetime\": \"2015-10-19 21:26:46\", \n",
    "  \"type\": \"gif\", \n",
    "  \"url\": \"https://giphy.com/gifs/cats-light-sabers-Ov5NiLVXT8JEc\", \n",
    "  \"username\": \"\"\n",
    "}\n",
    "</pre>"
   ]
  },
  {
   "cell_type": "markdown",
   "metadata": {},
   "source": [
    "#### Use Case 1, Solution 1: A Mapper Function"
   ]
  },
  {
   "cell_type": "code",
   "execution_count": 5,
   "metadata": {},
   "outputs": [],
   "source": [
    "def giphy_mapper(dct):\n",
    "    new_dict = {\n",
    "        \"bitly_gif_url\": dct.get(\"bitly_gif_url\"), \n",
    "        \"giphy_id\": dct.get(\"id\"), # Target field changed because of python resereved word\n",
    "        \"import_datetime\": dct.get(\"import_datetime\"), \n",
    "        \"rating\": dct.get(\"rating\"), \n",
    "        \"slug\": dct.get(\"slug\"), \n",
    "        \"source\": dct.get(\"source\"), \n",
    "        \"title\": dct.get(\"title\"), \n",
    "        \"image_type\": dct.get(\"type\"),  # Target field changed because of python resereved word\n",
    "        \"giphy_url\": dct.get(\"url\"), # We just want to be clear it's giphy's url, not just anybody's url\n",
    "        \"username\": dct.get(\"username\"),\n",
    "    }\n",
    "    return new_dict"
   ]
  },
  {
   "cell_type": "code",
   "execution_count": 6,
   "metadata": {},
   "outputs": [
    {
     "data": {
      "text/plain": [
       "{'bitly_gif_url': u'https://gph.is/1B5sZnz',\n",
       " 'giphy_id': u'Ov5NiLVXT8JEc',\n",
       " 'giphy_url': u'https://giphy.com/gifs/cats-light-sabers-Ov5NiLVXT8JEc',\n",
       " 'image_type': u'gif',\n",
       " 'import_datetime': u'2014-08-30 20:50:33',\n",
       " 'rating': u'g',\n",
       " 'slug': u'cats-light-sabers-Ov5NiLVXT8JEc',\n",
       " 'source': u'https://hobolunchbox.tumblr.com/post/96197585095/the-force-is-strong-with-mr-pickles',\n",
       " 'title': u'star wars fighting GIF',\n",
       " 'username': u''}"
      ]
     },
     "execution_count": 6,
     "metadata": {},
     "output_type": "execute_result"
    }
   ],
   "source": [
    "giphy_mapper(sample_data)"
   ]
  },
  {
   "cell_type": "markdown",
   "metadata": {},
   "source": [
    "#### Use Case 1 Solution 2: A Key Map"
   ]
  },
  {
   "cell_type": "code",
   "execution_count": 7,
   "metadata": {},
   "outputs": [],
   "source": [
    "def key_mapper(dct, keymap):\n",
    "    return {v:dct.get(k) for k,v in keymap.iteritems() if k in dct}"
   ]
  },
  {
   "cell_type": "code",
   "execution_count": 8,
   "metadata": {},
   "outputs": [
    {
     "data": {
      "text/plain": [
       "{'bitly_gif_url': u'https://gph.is/1B5sZnz',\n",
       " 'giphy_id': u'Ov5NiLVXT8JEc',\n",
       " 'giphy_url': u'https://giphy.com/gifs/cats-light-sabers-Ov5NiLVXT8JEc',\n",
       " 'image_type': u'gif',\n",
       " 'import_datetime': u'2014-08-30 20:50:33',\n",
       " 'rating': u'g',\n",
       " 'slug': u'cats-light-sabers-Ov5NiLVXT8JEc',\n",
       " 'source': u'https://hobolunchbox.tumblr.com/post/96197585095/the-force-is-strong-with-mr-pickles',\n",
       " 'title': u'star wars fighting GIF',\n",
       " 'username': u''}"
      ]
     },
     "execution_count": 8,
     "metadata": {},
     "output_type": "execute_result"
    }
   ],
   "source": [
    "key_map_source_to_target_fields = {\n",
    "    \"bitly_gif_url\": \"bitly_gif_url\", \n",
    "    \"id\": \"giphy_id\", # Target field changed because of python resereved word\n",
    "    \"import_datetime\": \"import_datetime\", \n",
    "    \"rating\": \"rating\", \n",
    "    \"slug\": \"slug\", \n",
    "    \"source\": \"source\", \n",
    "    \"title\": \"title\", \n",
    "    \"type\": \"image_type\",  # Target field changed because of python resereved word\n",
    "    \"url\": \"giphy_url\", # We just want to be clear it's giphy's url, not just anybody's url\n",
    "    \"username\": \"username\",\n",
    "}\n",
    " \n",
    "key_mapper(sample_data, key_map_source_to_target_fields)"
   ]
  },
  {
   "cell_type": "markdown",
   "metadata": {},
   "source": [
    "#### Use Case 1, Debrief: What's wrong with basic mapping?\n",
    "\n",
    "Basic mapping is not a problem. But you might outgrow the home-grown mapper when your needs change."
   ]
  },
  {
   "cell_type": "markdown",
   "metadata": {},
   "source": [
    "## C. Use Case 2: Nested records"
   ]
  },
  {
   "cell_type": "markdown",
   "metadata": {},
   "source": [
    "Returning to the object, we decide we really want the image data, currently nested in a collection.\n",
    "\n",
    "There are _23 image records_: fixed_height_still, fixed_width_small, fixed_width_small_still, preview_webp, ... original, downsized, fixed_width_still\n",
    "\n",
    "But want _only three_: *downsized, original, preview*\n",
    "\n",
    "##### Create data like this:\n",
    "\n",
    "<pre>\n",
    "{\n",
    "     \"bitly_gif_url\": \"...\", \n",
    "     \"giphy_id\": \"...\", \n",
    "     \"import_datetime\": \"...\", \n",
    "     \"rating\": \"...\", \n",
    "     \"slug\": \"...\", \n",
    "     \"images\": {\n",
    "            \"downsized\": {\n",
    "                \"height\": \"...\", \n",
    "                \"size\": \"...\", \n",
    "                \"url\": \"...\", \n",
    "                \"width\": \"...\"\n",
    "            },\n",
    "            \"original\": {\n",
    "                \"height\": \"...\", \n",
    "                \"size\": \"...\", \n",
    "                \"url\": \"...\", \n",
    "                \"width\": \"...\"\n",
    "            }, \n",
    "            \"preview\": {\n",
    "                \"height\": \"...\", \n",
    "                \"width\": \"...\"\n",
    "            },\n",
    "     }\n",
    "     \"source\": \"...\", \n",
    "     \"title\": \"...\", \n",
    "     \"image_type\": \"...\", \n",
    "     \"giphy_url\": \"...\", \n",
    "     \"username\": \"...\"\n",
    "}\n",
    "</pre>"
   ]
  },
  {
   "cell_type": "markdown",
   "metadata": {},
   "source": [
    "#### Use Case 2 Solution 1: Just add some code\n",
    "\n",
    "(This doesn't work out.)"
   ]
  },
  {
   "cell_type": "code",
   "execution_count": 9,
   "metadata": {},
   "outputs": [],
   "source": [
    "def giphy_mapper(dct):\n",
    "    new_dict = {\n",
    "        \"bitly_gif_url\": dct.get(\"bitly_gif_url\"), \n",
    "        \"giphy_id\": dct.get(\"id\"), # Target field changed because of python resereved word\n",
    "        \"import_datetime\": dct.get(\"import_datetime\"), \n",
    "        \"rating\": dct.get(\"rating\"), \n",
    "        \"slug\": dct.get(\"slug\"), \n",
    "        \"source\": dct.get(\"source\"), \n",
    "        \"title\": dct.get(\"title\"), \n",
    "        \"image_type\": dct.get(\"type\"),  # Target field changed because of python resereved word\n",
    "        \"giphy_url\": dct.get(\"url\"), # We just want to be clear it's giphy's url, not just anybody's url\n",
    "        \"username\": dct.get(\"username\"),\n",
    "    }\n",
    "    new_dict[\"images\"] = {\n",
    "        \"downsized\": dct[\"images\"].get('downsized'),\n",
    "        \"original\": dct[\"images\"].get('original'),\n",
    "        \"preview\": dct[\"images\"].get('preview'),\n",
    "    }\n",
    "    \n",
    "    return new_dict"
   ]
  },
  {
   "cell_type": "code",
   "execution_count": 10,
   "metadata": {},
   "outputs": [
    {
     "data": {
      "text/plain": [
       "{'bitly_gif_url': u'https://gph.is/1B5sZnz',\n",
       " 'giphy_id': u'Ov5NiLVXT8JEc',\n",
       " 'giphy_url': u'https://giphy.com/gifs/cats-light-sabers-Ov5NiLVXT8JEc',\n",
       " 'image_type': u'gif',\n",
       " 'images': {'downsized': {u'height': u'281',\n",
       "   u'size': u'1802952',\n",
       "   u'url': u'https://media1.giphy.com/media/Ov5NiLVXT8JEc/giphy.gif?cid=e1bb72ff5a8e4877344d53506749c515',\n",
       "   u'width': u'500'},\n",
       "  'original': {u'frames': u'22',\n",
       "   u'height': u'281',\n",
       "   u'mp4': u'https://media1.giphy.com/media/Ov5NiLVXT8JEc/giphy.mp4?cid=e1bb72ff5a8e4877344d53506749c515',\n",
       "   u'mp4_size': u'121585',\n",
       "   u'size': u'1802952',\n",
       "   u'url': u'https://media1.giphy.com/media/Ov5NiLVXT8JEc/giphy.gif?cid=e1bb72ff5a8e4877344d53506749c515',\n",
       "   u'webp': u'https://media1.giphy.com/media/Ov5NiLVXT8JEc/giphy.webp?cid=e1bb72ff5a8e4877344d53506749c515',\n",
       "   u'webp_size': u'538448',\n",
       "   u'width': u'500'},\n",
       "  'preview': {u'height': u'128',\n",
       "   u'mp4': u'https://media1.giphy.com/media/Ov5NiLVXT8JEc/giphy-preview.mp4?cid=e1bb72ff5a8e4877344d53506749c515',\n",
       "   u'mp4_size': u'37266',\n",
       "   u'width': u'230'}},\n",
       " 'import_datetime': u'2014-08-30 20:50:33',\n",
       " 'rating': u'g',\n",
       " 'slug': u'cats-light-sabers-Ov5NiLVXT8JEc',\n",
       " 'source': u'https://hobolunchbox.tumblr.com/post/96197585095/the-force-is-strong-with-mr-pickles',\n",
       " 'title': u'star wars fighting GIF',\n",
       " 'username': u''}"
      ]
     },
     "execution_count": 10,
     "metadata": {},
     "output_type": "execute_result"
    }
   ],
   "source": [
    "giphy_mapper(sample_data)"
   ]
  },
  {
   "cell_type": "markdown",
   "metadata": {},
   "source": [
    "Darn. That's too much. It has more data than I want. Forgot about that."
   ]
  },
  {
   "cell_type": "markdown",
   "metadata": {},
   "source": [
    "#### Use Case 2: Solution 2\n",
    "\n",
    "(This technically works, but it's falling apart.)"
   ]
  },
  {
   "cell_type": "code",
   "execution_count": 11,
   "metadata": {},
   "outputs": [
    {
     "name": "stdout",
     "output_type": "stream",
     "text": [
      "{\n",
      "  \"bitly_gif_url\": \"https://gph.is/1B5sZnz\", \n",
      "  \"giphy_id\": \"Ov5NiLVXT8JEc\", \n",
      "  \"giphy_url\": \"https://giphy.com/gifs/cats-light-sabers-Ov5NiLVXT8JEc\", \n",
      "  \"image_type\": \"gif\", \n",
      "  \"images\": {\n",
      "    \"downsized\": {\n",
      "      \"height\": \"281\", \n",
      "      \"size\": \"1802952\", \n",
      "      \"url\": \"https://media1.giphy.com/media/Ov5NiLVXT8JEc/giphy.gif?cid=e1bb72ff5a8e4877344d53506749c515\", \n",
      "      \"width\": \"500\"\n",
      "    }, \n",
      "    \"original\": {\n",
      "      \"height\": \"281\", \n",
      "      \"size\": \"1802952\", \n",
      "      \"url\": \"https://media1.giphy.com/media/Ov5NiLVXT8JEc/giphy.gif?cid=e1bb72ff5a8e4877344d53506749c515\", \n",
      "      \"width\": \"500\"\n",
      "    }, \n",
      "    \"preview\": {\n",
      "      \"height\": \"128\", \n",
      "      \"width\": \"230\"\n",
      "    }\n",
      "  }, \n",
      "  \"import_datetime\": \"2014-08-30 20:50:33\", \n",
      "  \"rating\": \"g\", \n",
      "  \"slug\": \"cats-light-sabers-Ov5NiLVXT8JEc\", \n",
      "  \"source\": \"https://hobolunchbox.tumblr.com/post/96197585095/the-force-is-strong-with-mr-pickles\", \n",
      "  \"title\": \"star wars fighting GIF\", \n",
      "  \"username\": \"\"\n",
      "}\n"
     ]
    }
   ],
   "source": [
    "#+++++++++++ \n",
    "# NEW \n",
    "#+++++++++++ \n",
    "# I'll just go add stuff and re-use the old mapper\n",
    "\n",
    "def filter_image_fields(image_dct, keep=(\"height\", \"size\", \"url\", \"width\",)):\n",
    "    new_dict = {}\n",
    "    for field in image_dct:\n",
    "        if field in keep:\n",
    "            new_dict[field] = image_dct[field]\n",
    "    return new_dict\n",
    "\n",
    "# And I'll call this \"extras\" cause it's the extra stuff I didn't do before. (lolz)\n",
    "def giphy_mapper_extras(mapped_data):\n",
    "    new_images = {}\n",
    "    for dct_label, image_dct in mapped_data['images'].iteritems():\n",
    "        new_images[dct_label] = filter_image_fields(image_dct)\n",
    "    mapped_data['images'] = new_images\n",
    "    return mapped_data\n",
    "\n",
    "mapped_data = giphy_mapper_extras(giphy_mapper(sample_data))\n",
    "\n",
    "# Take that. \n",
    "print json.dumps(mapped_data, indent=2, sort_keys=True)"
   ]
  },
  {
   "cell_type": "markdown",
   "metadata": {},
   "source": [
    "#### Use Case 2: Debrief\n",
    "This is the fast way. Just stick stuff in your code to meet the need. But code has to be maintained. \n",
    "\n",
    "##### Problems\n",
    "* you're bolting more and more onto the mapping code\n",
    "* your mapping code turns into spaghetti"
   ]
  },
  {
   "cell_type": "markdown",
   "metadata": {},
   "source": [
    "## D. Use Case 3: Flatten data, add and transform fields\n",
    "\n",
    "Now your map folds\n",
    "\n",
    "##### We're asked to make some changes:\n",
    "\n",
    "* _\"Can you also make the data not nested? It needs to show in a table (import to Excel, scroll on the screen, etc.).\"_\n",
    "* Also... _can you make the size in MB not bits?_\n",
    "* _height and width like \"640x480\"_\n",
    "* _calculate the difference in height between the original and the preview. We need that for analytics. (\"No you don't.\" \"Yes we do!\")_"
   ]
  },
  {
   "cell_type": "markdown",
   "metadata": {},
   "source": [
    "##### Create data like this:\n",
    "<pre>\n",
    "{\n",
    "    \"bitly_gif_url\": \"https://gph.is/1B5sZnz\", \n",
    "    \"giphy_id\": \"Ov5NiLVXT8JEc\", \n",
    "    \"giphy_url\": \"https://giphy.com/gifs/cats-light-sabers-Ov5NiLVXT8JEc\", \n",
    "    \"image_type\": \"gif\", \n",
    "    \"downsized\": {\n",
    "    \"downsized_height\": \"281\", \n",
    "    \"downsized_size\": \"1.8 MB\", \n",
    "    \"downsized_url\": \"https://media1.giphy.com/media/Ov5NiLVXT8JEc/giphy.gif?cid=e1bb72ff5a8e4877344d53506749c515\", \n",
    "    \"downsized_width\": \"500\"\n",
    "    \"downsized_dimensions\": \"500 x 281\"\n",
    "    \"original_dimensions\": \"500 x 281\"\n",
    "    \"original_height\": \"281\", \n",
    "    \"original_size\": \"1.8 MB\", \n",
    "    \"original_url\": \"https://media1.giphy.com/media/Ov5NiLVXT8JEc/giphy.gif?cid=e1bb72ff5a8e4877344d53506749c515\", \n",
    "    \"original_width\": \"500\"\n",
    "    \"preview_height\": \"128\", \n",
    "    \"preview_width\": \"230\"\n",
    "    \"preview_dimensions\": \"230 x 128\"\n",
    "    \"height_diff\": \"281\", \n",
    "    \"preview_height\": \"153\", \n",
    "    \"import_datetime\": \"2014-08-30 20:50:33\", \n",
    "    \"rating\": \"g\", \n",
    "    \"slug\": \"cats-light-sabers-Ov5NiLVXT8JEc\", \n",
    "    \"source\": \"https://hobolunchbox.tumblr.com/post/96197585095/the-force-is-strong-with-mr-pickles\", \n",
    "    \"title\": \"star wars fighting GIF\", \n",
    "    \"username\": \"\"\n",
    "}\n",
    "</pre>"
   ]
  },
  {
   "cell_type": "markdown",
   "metadata": {},
   "source": [
    "#### Use Case 3: Solution\n",
    "\n",
    "(Not good!)"
   ]
  },
  {
   "cell_type": "code",
   "execution_count": 12,
   "metadata": {},
   "outputs": [],
   "source": [
    "# Now you adapt it again\n",
    "\n",
    "def giphy_mapper(dct):\n",
    "    #+++++++++++ \n",
    "    # OLD \n",
    "    #+++++++++++ \n",
    "    new_dict = {\n",
    "        \"bitly_gif_url\": dct.get(\"bitly_gif_url\"), \n",
    "        \"giphy_id\": dct.get(\"id\"), # Target field changed because of python resereved word\n",
    "        \"import_datetime\": dct.get(\"import_datetime\"), \n",
    "        \"rating\": dct.get(\"rating\"), \n",
    "        \"slug\": dct.get(\"slug\"), \n",
    "        \"source\": dct.get(\"source\"), \n",
    "        \"title\": dct.get(\"title\"), \n",
    "        \"image_type\": dct.get(\"type\"),  # Target field changed because of python resereved word\n",
    "        \"giphy_url\": dct.get(\"url\"), # We just want to be clear it's giphy's url, not just anybody's url\n",
    "        \"username\": dct.get(\"username\"),\n",
    "    }\n",
    "    \n",
    "    #+++++++++++ \n",
    "    # NEW \n",
    "    #+++++++++++ \n",
    "    # DRY up a few things here. Being a smart programmer, you know.\n",
    "    images = 'downsized', 'original', 'preview'\n",
    "    new_dict[\"images\"] = {}\n",
    "    for image in images:\n",
    "        new_dict[\"images\"][image] = dct[\"images\"].get(image)\n",
    "    return new_dict\n",
    "\n",
    "def giphy_mapper_extras(mapped_data):\n",
    "    #+++++++++++ \n",
    "    # OLD \n",
    "    #+++++++++++ \n",
    "    new_images = {}\n",
    "    for dct_label, image_dct in mapped_data['images'].iteritems():\n",
    "        new_images[dct_label] = filter_image_fields(image_dct)\n",
    "    #+++++++++++ \n",
    "    # NEW \n",
    "    #+++++++++++ \n",
    "    flat_dict = {}\n",
    "    # I'll flatten the list here.\n",
    "    for image_name, image_data in new_images.iteritems():\n",
    "        for image_field, val in image_data.iteritems():\n",
    "            flat_dict[image_name+\"_\"+image_field] = val  # \n",
    "    mapped_data.update(flat_dict)\n",
    "    del mapped_data[\"images\"]\n",
    "    return mapped_data\n",
    "\n",
    "#+++++++++++ \n",
    "# NEW \n",
    "#+++++++++++ \n",
    "# I'll transform with something like this\n",
    "def make_dimensions(width,height, fmt='%s x %s'):\n",
    "    return fmt % (width, height,)\n",
    "\n",
    "def transform_data(data):\n",
    "    data['original_size'] = \"%s MB\" % (int(data['original_size'])/1000 )\n",
    "    data['downsized_size'] = \"%s MB\" % (int(data['downsized_size'])/1000)\n",
    "    data['height_diff'] = int(data[\"original_height\"]) - int(data[\"preview_height\"])\n",
    "    data['preview_dimensions'] = make_dimensions(data['preview_width'],data['preview_height'])\n",
    "    data['original_dimensions'] = make_dimensions(data['original_width'],data['original_height'])\n",
    "    data['downsized_dimensions'] = make_dimensions(data['downsized_width'],data['downsized_height'])\n",
    "    return data"
   ]
  },
  {
   "cell_type": "code",
   "execution_count": 13,
   "metadata": {},
   "outputs": [
    {
     "name": "stdout",
     "output_type": "stream",
     "text": [
      "{\n",
      "   \"bitly_gif_url\": \"https://gph.is/1B5sZnz\", \n",
      "   \"downsized_dimensions\": \"500 x 281\", \n",
      "   \"downsized_height\": \"281\", \n",
      "   \"downsized_size\": \"1802 MB\", \n",
      "   \"downsized_url\": \"https://media1.giphy.com/media/Ov5NiLVXT8JEc/giphy.gif?cid=e1bb72ff5a8e4877344d53506749c515\", \n",
      "   \"downsized_width\": \"500\", \n",
      "   \"giphy_id\": \"Ov5NiLVXT8JEc\", \n",
      "   \"giphy_url\": \"https://giphy.com/gifs/cats-light-sabers-Ov5NiLVXT8JEc\", \n",
      "   \"height_diff\": 153, \n",
      "   \"image_type\": \"gif\", \n",
      "   \"import_datetime\": \"2014-08-30 20:50:33\", \n",
      "   \"original_dimensions\": \"500 x 281\", \n",
      "   \"original_height\": \"281\", \n",
      "   \"original_size\": \"1802 MB\", \n",
      "   \"original_url\": \"https://media1.giphy.com/media/Ov5NiLVXT8JEc/giphy.gif?cid=e1bb72ff5a8e4877344d53506749c515\", \n",
      "   \"original_width\": \"500\", \n",
      "   \"preview_dimensions\": \"230 x 128\", \n",
      "   \"preview_height\": \"128\", \n",
      "   \"preview_width\": \"230\", \n",
      "   \"rating\": \"g\", \n",
      "   \"slug\": \"cats-light-sabers-Ov5NiLVXT8JEc\", \n",
      "   \"source\": \"https://hobolunchbox.tumblr.com/post/96197585095/the-force-is-strong-with-mr-pickles\", \n",
      "   \"title\": \"star wars fighting GIF\", \n",
      "   \"username\": \"\"\n",
      "}\n"
     ]
    }
   ],
   "source": [
    "# Now we're done.\n",
    "tranformed_data = transform_data(giphy_mapper_extras(giphy_mapper(sample_data)))\n",
    "print json.dumps(tranformed_data, sort_keys=True, indent=3)"
   ]
  },
  {
   "cell_type": "markdown",
   "metadata": {},
   "source": [
    "# Conclusion: What's wrong with DIY mapping?\n",
    "\n",
    "* You need to **manipulate data in your head**\n",
    "* No clear pattern to apply when adding or changing it\n",
    "* Too too slow to understand\n",
    "* Not explicit \n",
    "\n",
    "**When you are squinting and staring to follow the data transformations you're doing it wrong**"
   ]
  },
  {
   "cell_type": "markdown",
   "metadata": {},
   "source": [
    "### There is a better way.\n",
    "\n",
    "Solution in another notebook..."
   ]
  }
 ],
 "metadata": {
  "kernelspec": {
   "display_name": "Python 2",
   "language": "python",
   "name": "python2"
  },
  "language_info": {
   "codemirror_mode": {
    "name": "ipython",
    "version": 2
   },
   "file_extension": ".py",
   "mimetype": "text/x-python",
   "name": "python",
   "nbconvert_exporter": "python",
   "pygments_lexer": "ipython2",
   "version": "2.7.10"
  }
 },
 "nbformat": 4,
 "nbformat_minor": 2
}
